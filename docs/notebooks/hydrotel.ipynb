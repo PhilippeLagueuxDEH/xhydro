{
  "cells": [
    {
      "cell_type": "markdown",
      "id": "d2be7c8a-3430-4bad-ae97-bff0fd631a89",
      "metadata": {},
      "source": [
        "# Modelling module\n",
        "## HYDROTEL\n",
        "The `xhydro.modelling.Hydrotel` class is used to prepare and update configuration files for HYDROTEL, validate the project directory and the meteorological inputs, execute the model, and reformat the outputs to be more inline with CF conventions and other functionalities of `xhydro`.\n",
        "\n",
        "<div class=\"alert alert-info\"> <b>INFO</b>\n",
        "`xhydro` does not distribute the HYDROTEL executable. If you want to use this module, you will have to get access to it first.\n",
        "</div>\n",
        "\n",
        "### Initialising the model\n",
        "`xhydro` does not prepare the project directory itself, which should be done beforehand. What the class does, when initiating a new instance of `xhydro.modelling.Hydrotel`, is allow modifying the entries located in the three main configuration files: `projet.csv`, `simulation.csv`, and `output.csv`. At minimum, when this class is initialised, the project folder will have to already exist and either 'default_options' will have to be True or SIMULATION COURANTE (current simulation) must be specified as a keyword argument in `project_options`.\n",
        "\n",
        "The arguments of the class are:\n",
        "\n",
        "- `project`: *str* or *os.Pathlike*. The full path to the project directory.\n",
        "- `default_options`: *bool*. Whether to use default configuration options taken from `xhydro/modelling/data/hydrotel_defaults.yml`, or read them from the files on disk.\n",
        "- `project_options`, `simulation_options`, `output_options`: *dict*. Configuration options to overwrite with new information.\n",
        "\n",
        "At any time after initialising the class, `Hydrotel.update_options()` can be called to update the three configuration files. When called, this function will overwrite the CSV files written on disk."
      ]
    },
    {
      "cell_type": "code",
      "execution_count": null,
      "id": "25970397-024f-428f-92b6-1675a80e0161",
      "metadata": {},
      "outputs": [],
      "source": [
        "from pathlib import Path\n",
        "from xhydro.modelling import Hydrotel\n",
        "import xhydro as xh\n",
        "\n",
        "# Folder where to put the data\n",
        "project_folder = Path().absolute() / \"_data\"\n",
        "project_name = \"example_hydrotel\""
      ]
    },
    {
      "cell_type": "code",
      "execution_count": null,
      "id": "fc3a8459-c647-41c4-9388-e896c99af7ff",
      "metadata": {
        "editable": true,
        "nbsphinx": "hidden",
        "slideshow": {
          "slide_type": ""
        },
        "tags": [
          "hide_code"
        ]
      },
      "outputs": [],
      "source": [
        "# This is a hidden cell. We'll create a fake Hydrotel directory for the purpose of this example.\n",
        "from xclim.testing.helpers import test_timeseries as timeseries\n",
        "import xhydro.testing.utils\n",
        "import numpy as np\n",
        "\n",
        "# Fake meteorological data\n",
        "meteo = timeseries(\n",
        "    np.zeros(365 * 2),\n",
        "    start=\"2001-01-01\",\n",
        "    freq=\"D\",\n",
        "    variable=\"tasmin\",\n",
        "    as_dataset=True,\n",
        "    units=\"degC\",\n",
        ")\n",
        "meteo[\"tasmax\"] = timeseries(\n",
        "    np.ones(365 * 2),\n",
        "    start=\"2001-01-01\",\n",
        "    freq=\"D\",\n",
        "    variable=\"tasmax\",\n",
        "    units=\"degC\",\n",
        ")\n",
        "meteo[\"pr\"] = timeseries(\n",
        "    np.ones(365 * 2) * 10,\n",
        "    start=\"2001-01-01\",\n",
        "    freq=\"D\",\n",
        "    variable=\"pr\",\n",
        "    units=\"mm\",\n",
        ")\n",
        "meteo = meteo.expand_dims(\"stations\").assign_coords(stations=[\"010101\"])\n",
        "meteo = meteo.assign_coords(\n",
        "    coords={\"lat\": 46, \"lon\": -77, \"z\": 0}\n",
        ")\n",
        "for c in [\"lat\", \"lon\", \"z\"]:\n",
        "    meteo[c] = meteo[c].expand_dims(\"stations\")\n",
        "\n",
        "# Fake output\n",
        "debit_aval = timeseries(\n",
        "    np.zeros(365 * 2),\n",
        "    start=\"2001-01-01\",\n",
        "    freq=\"D\",\n",
        "    variable=\"streamflow\",\n",
        "    as_dataset=True,\n",
        ")\n",
        "debit_aval = debit_aval.expand_dims(\"troncon\").assign_coords(troncon=[0])\n",
        "debit_aval = debit_aval.assign_coords(coords={\"idtroncon\": 0})\n",
        "debit_aval[\"idtroncon\"] = debit_aval[\"idtroncon\"].expand_dims(\"troncon\")\n",
        "debit_aval = debit_aval.rename({\"streamflow\": \"debit_aval\"})\n",
        "debit_aval[\"debit_aval\"].attrs = {\n",
        "    \"units\": \"m3/s\",\n",
        "    \"description\": \"Debit en aval du troncon\",\n",
        "}\n",
        "\n",
        "xhydro.testing.utils.fake_hydrotel_project(\n",
        "    project_folder, project_name, meteo=meteo, debit_aval=debit_aval\n",
        ")"
      ]
    },
    {
      "cell_type": "markdown",
      "id": "59c031dd-6f93-4e74-9aae-c0fdffc3b572",
      "metadata": {},
      "source": [
        "DATE DEBUT (start date), DATE FIN (end date), and PAS DE TEMPS (timestep frequency) will always need to be specified for HYDROTEL to run, so these need to be added to `simulation_options` if they don't already exist in `simulation.csv`. Similarly, either FICHIER STATIONS METEO (meteorological stations file) or FICHIER GRILLE METEO (meteorological grid file) need to be specified.\n",
        "\n",
        "By default, all output options are turned off, so the required outputs need to be turned on too if it's not already the case."
      ]
    },
    {
      "cell_type": "code",
      "execution_count": null,
      "id": "e5cc7424-c691-4c2b-b5a4-4ccfe01372b1",
      "metadata": {},
      "outputs": [],
      "source": [
        "# The options only need to be those that differ from the defaults or those on-disk. These will generally include the simulation dates and output requested.\n",
        "simulation_options = {\"DATE DEBUT\": \"2001-01-01\", \"DATE FIN\": \"2001-12-31\", \"FICHIER STATIONS METEO\": \"meteo/SLNO_meteo_GC3H.nc\", \"PAS DE TEMPS\": 24}\n",
        "output_options = {\"TRONCONS\": 1, \"DEBITS_AVAL\": 1}\n",
        "ht = Hydrotel(project_folder / project_name, default_options=False, simulation_options=simulation_options, output_options=output_options)\n",
        "\n",
        "print(f\"Simulation name, taken from 'projet.csv': '{ht.simulation_name}'\\n\")\n",
        "print(f\"Project configuration: '{ht.project_options}'\\n\")\n",
        "print(f\"Simulation configuration: '{ht.simulation_options}'\\n\")\n",
        "print(f\"Output configuration: '{ht.output_options}'\")"
      ]
    },
    {
      "cell_type": "markdown",
      "id": "b839b2b9-0b9f-46f1-b684-08879e0ec6e1",
      "metadata": {
        "editable": true,
        "slideshow": {
          "slide_type": ""
        },
        "tags": []
      },
      "source": [
        "## Validating the meteorological data\n",
        "A few basic checks will be automatically performed prior to executing the model, but a user might want to perform more advanced health checks (missing values, unrealistic meteorological inputs, etc.). This is possible through the use of `xhydro.utils.health_checks`. Consult [the 'xscen' documentation](https://xscen.readthedocs.io/en/latest/notebooks/3_diagnostics.html#Health-checks) for the full list of possible checks.\n",
        "\n",
        "In this example, we'll:\n",
        "- Make sure that there is no missing data.\n",
        "- That there are no abnormal meteorological values or sequence of values. Some checks here will fail, to showcase what those would look like."
      ]
    },
    {
      "cell_type": "code",
      "execution_count": null,
      "id": "06cb6eb2-366a-4f9a-be37-ecbe6ebbb833",
      "metadata": {},
      "outputs": [],
      "source": [
        "health_checks = {\"raise_on\": [],  # If an antry is not here, it will warn the user instead of raising an exception.\n",
        "                 \"missing\": {\"missing_any\": {\"freq\": \"YS\"}},\n",
        "                 \"flags\": {\n",
        "                     \"pr\":  # You can have specific flags per variable.\n",
        "                           {  \n",
        "                               \"negative_accumulation_values\": {},\n",
        "                               \"very_large_precipitation_events\": {},\n",
        "                               \"outside_n_standard_deviations_of_climatology\": {\"n\": 5},\n",
        "                               \"values_repeating_for_n_or_more_days\": {\"n\": 5}\n",
        "                               },\n",
        "                           \"tasmax\": \n",
        "                           {\n",
        "                               \"tasmax_below_tasmin\": {},\n",
        "                               \"temperature_extremely_low\": {},\n",
        "                               \"temperature_extremely_high\": {},\n",
        "                               \"outside_n_standard_deviations_of_climatology\": {\"n\": 5},\n",
        "                               \"values_repeating_for_n_or_more_days\": {\"n\": 5},\n",
        "                               },\n",
        "                           \"tasmin\": \n",
        "                           {\n",
        "                               \"temperature_extremely_low\": {},\n",
        "                               \"temperature_extremely_high\": {},\n",
        "                               \"outside_n_standard_deviations_of_climatology\": {\"n\": 5},\n",
        "                               \"values_repeating_for_n_or_more_days\": {\"n\": 5},\n",
        "                               },\n",
        "                     }\n",
        "                 }"
      ]
    },
    {
      "cell_type": "code",
      "execution_count": null,
      "id": "b06ce7ef-f734-4da3-a208-8e60884a8248",
      "metadata": {},
      "outputs": [],
      "source": [
        "ds_in = ht.get_input()\n",
        "ds_in[\"pr\"].attrs[\"units\"] = \"mm d-1\"  # Hydrotel-to-xclim compatibility\n",
        "\n",
        "xh.utils.health_checks(ds_in, **health_checks)"
      ]
    },
    {
      "cell_type": "markdown",
      "id": "8b9ab80f-1040-4f5e-a39c-607e990f919c",
      "metadata": {},
      "source": [
        "## Executing HYDROTEL\n",
        "A few basic checkups will always be performed when executing `HYDROTEL.run()`:\n",
        "\n",
        "- All files mentioned in the configuration exist.\n",
        "- The dataset has the TIME and STATION (optional) dimensions, and LONGITUDE, LATITUDE, ELEVATION coordinates.\n",
        "- The dataset has TMIN (degC), TMAX (degC), and PRECIP (mm) variables.\n",
        "- The dataset has a standard calendar.\n",
        "- The frequency is uniform (i.e. all time steps are equally spaced).\n",
        "- The start and end dates are contained in the dataset.\n",
        "\n",
        "The name of the dimensions, coordinates, and variables are checked against the configuration file (e.g. `SLNO_meteo_GC3H.nc.config`, in this example).\n",
        "\n",
        "Only when those checks are satisfied will the function actually execute the model. In addition, the following arguments can be called:\n",
        "\n",
        "- `hydrotel_console`: *str* or *os.Pathlike*. For Windows, this is the path to the Hydrotel executable.\n",
        "- `id_as_dim`: *bool*. By default, Hydrotel will generate a dataset with `troncon` as the spatial dimension, and `idtroncon` as a coordinate. If True, this will swap them so that `idtroncon` is the dimension, then will remove `troncon` altogether.\n",
        "- `dry_run`: *bool*. True by default, just to prevent erroneous executions. Put at False to execute the model.\n",
        "\n",
        "Once HYDROTEL has been run, `xhydro` will automatically reformat the NetCDF to bring it closer to CF conventions and into a format that can be used with other `xhydro` modules, although no standard exists for hydrological data. This currently only supports the DEBITS_AVAL (outgoing streamflow) output option."
      ]
    },
    {
      "cell_type": "code",
      "execution_count": null,
      "id": "97c46527-1b5c-47d6-84f2-831550251dfd",
      "metadata": {},
      "outputs": [],
      "source": [
        "# For the purpose of this example, we'll leave 'dry_run' as True.\n",
        "print(\"Command that would be run in the terminal:\")\n",
        "ht.run(id_as_dim=True, dry_run=True)"
      ]
    },
    {
      "cell_type": "code",
      "execution_count": null,
      "id": "68b6035d-3782-4dd9-914c-f786fb172c85",
      "metadata": {},
      "outputs": [],
      "source": [
        "ht.get_streamflow()  # This is what raw HYDROTEL outputs would look like."
      ]
    },
    {
      "cell_type": "code",
      "execution_count": null,
      "id": "08170a9d-6e61-4808-8f69-8fd1fffd2d66",
      "metadata": {
        "nbsphinx": "hidden"
      },
      "outputs": [],
      "source": [
        "# dry_run=True skips the reformatting, but it can be called explicitely.\n",
        "ht._standardise_outputs()\n",
        "ht.get_streamflow()  # These will be the reformatted outputs."
      ]
    },
    {
      "cell_type": "markdown",
      "id": "551a8a72-59f9-43e1-8b43-19d084258b05",
      "metadata": {},
      "source": [
        "If we examine the streamflow file after executing HYDROTEL, we'll see that it has been reformatted.\n",
        "\n",
        "- `troncon` and `idtroncon` are renamed to `station` and `station_id`, respectively.\n",
        "- If `id_as_dim` is True, then `station_id` is the dimension.\n",
        "- `debit_aval` is renamed `streamflow` and is given standard attributes."
      ]
    },
    {
      "cell_type": "code",
      "execution_count": null,
      "id": "b0d2c2c3-dfe7-47b3-8d8a-face82c3e99a",
      "metadata": {
        "nbsphinx": "hidden"
      },
      "outputs": [],
      "source": [
        "# This cell is hidden.\n",
        "import os\n",
        "import shutil\n",
        "\n",
        "if os.path.isdir(project_folder):\n",
        "    shutil.rmtree(project_folder)"
      ]
    }
  ],
  "metadata": {
    "kernelspec": {
      "display_name": "Python 3 (ipykernel)",
      "language": "python",
      "name": "python3"
    },
    "language_info": {
      "codemirror_mode": {
        "name": "ipython",
        "version": 3
      },
      "file_extension": ".py",
      "mimetype": "text/x-python",
      "name": "python",
      "nbconvert_exporter": "python",
      "pygments_lexer": "ipython3",
      "version": "3.10.12"
    }
  },
  "nbformat": 4,
  "nbformat_minor": 5
}
