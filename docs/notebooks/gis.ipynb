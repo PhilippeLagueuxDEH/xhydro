{
  "cells": [
    {
      "cell_type": "markdown",
      "metadata": {},
      "source": [
        "# GIS module"
      ]
    },
    {
      "cell_type": "markdown",
      "metadata": {},
      "source": [
        "Les opérations GIS font partie intégrantes des opérations réalisées en hydrologie. Cette page "
      ]
    },
    {
      "cell_type": "code",
      "execution_count": null,
      "metadata": {},
      "outputs": [],
      "source": [
        "import geopandas as gpd\n",
        "import pandas as pd\n",
        "import warnings\n",
        "import leafmap\n",
        "import numpy as np\n",
        "import xarray as xr\n",
        "\n",
        "\n",
        "from pathlib import Path\n",
        "\n",
        "import xdatasets as xd\n",
        "import xhydro.gis as xhgis\n",
        "from xhydro.indicators import get_yearly_op"
      ]
    },
    {
      "cell_type": "markdown",
      "metadata": {},
      "source": [
        "## Creating a map"
      ]
    },
    {
      "cell_type": "code",
      "execution_count": null,
      "metadata": {},
      "outputs": [],
      "source": [
        "m = leafmap.Map(center=(48.63, -74.71), \n",
        "                zoom=3,\n",
        "                basemap=\"USGS Hydrography\")\n",
        "m"
      ]
    },
    {
      "cell_type": "markdown",
      "metadata": {},
      "source": [
        "## Watershed delineation"
      ]
    },
    {
      "cell_type": "markdown",
      "metadata": {},
      "source": [
        "### a) From a list of coordinates"
      ]
    },
    {
      "cell_type": "code",
      "execution_count": null,
      "metadata": {},
      "outputs": [],
      "source": [
        "lng_lat = [(-69.81971, 48.14720), # Lac Saint-Jean watershed\n",
        "           (-74.393438, 45.572442) # Ottawa river watershed\n",
        "          ]"
      ]
    },
    {
      "cell_type": "markdown",
      "metadata": {},
      "source": [
        "### b) From markers on a map"
      ]
    },
    {
      "cell_type": "markdown",
      "metadata": {},
      "source": [
        "![test](../../docs/_static/_images/example_draw_marker,png)"
      ]
    },
    {
      "cell_type": "code",
      "execution_count": null,
      "metadata": {},
      "outputs": [],
      "source": [
        "# The following code is only useful for the documentation. You should instead remove this code and\n",
        "# interact with the map as shown above by positionning markers at sites of interest\n",
        "m.draw_features = [{'type': 'Feature',\n",
        "  'properties': {},\n",
        "  'geometry': {'type': 'Point', 'coordinates': [-73.118597, 46.042467]}}] # Richelieu watershed"
      ]
    },
    {
      "cell_type": "code",
      "execution_count": null,
      "metadata": {},
      "outputs": [],
      "source": [
        "%%time\n",
        "\n",
        "gdf = xhgis.watershed_delineation(coordinates=lng_lat,\n",
        "                                  map=m)\n",
        "gdf"
      ]
    },
    {
      "cell_type": "code",
      "execution_count": null,
      "metadata": {},
      "outputs": [],
      "source": [
        "m.zoom_to_gdf(gdf)"
      ]
    },
    {
      "cell_type": "markdown",
      "metadata": {},
      "source": [
        "### c) From [xdatasets](https://github.com/hydrologie/xdatasets) (Not implemented yet)\n",
        "\n",
        "This functionality fetches a list of basins from [xdatasets](https://github.com/hydrologie/xdatasets)' supported datasets, and upon request, [xdatasets](https://github.com/hydrologie/xdatasets) provides a `gpd.GeoDataFrame` containing the precalculated boundaries for these basins."
      ]
    },
    {
      "cell_type": "markdown",
      "metadata": {},
      "source": [
        "## Extract geographical watershed properties"
      ]
    },
    {
      "cell_type": "markdown",
      "metadata": {},
      "source": [
        "a) Let's first extract watershed properties"
      ]
    },
    {
      "cell_type": "code",
      "execution_count": null,
      "metadata": {},
      "outputs": [],
      "source": [
        "xhgis.watershed_properties(gdf)"
      ]
    },
    {
      "cell_type": "code",
      "execution_count": null,
      "metadata": {},
      "outputs": [],
      "source": [
        "xhgis.watershed_properties(gdf[['HYBAS_ID', 'geometry']],\n",
        "                           unique_id='HYBAS_ID',\n",
        "                           output_format='xarray')"
      ]
    },
    {
      "cell_type": "markdown",
      "metadata": {},
      "source": [
        "b) Let's then extract climate indicators"
      ]
    },
    {
      "cell_type": "code",
      "execution_count": null,
      "metadata": {},
      "outputs": [],
      "source": [
        "# This will be returned by xdatasets ( c) above) eventually\n",
        "bucket = Path(\"https://s3.us-east-2.wasabisys.com/watersheds-polygons/MELCC/json\")\n",
        "\n",
        "paths = [\n",
        "    bucket.joinpath(\"023003/023003.json\"),\n",
        "    bucket.joinpath(\"031101/031101.json\"),\n",
        "]\n",
        "\n",
        "gdf = pd.concat([gpd.read_file(path) for path in paths]).reset_index(drop=True)\n",
        "gdf"
      ]
    },
    {
      "cell_type": "code",
      "execution_count": null,
      "metadata": {},
      "outputs": [],
      "source": [
        "datasets = {\n",
        "    \"era5_land_reanalysis\": {\"variables\": [\"t2m\", \"tp\", \"sd\"]},\n",
        "}\n",
        "space = {\n",
        "    \"clip\": \"polygon\",  # bbox, point or polygon\n",
        "    \"averaging\": True,\n",
        "    \"geometry\": gdf,  # 3 polygons\n",
        "    \"unique_id\": \"Station\",\n",
        "}\n",
        "time = {\n",
        "    \"start\": \"1981-01-01\",\n",
        "    \"end\": \"2010-12-31\",\n",
        "    \"timezone\": \"America/Montreal\",\n",
        "}\n",
        "\n",
        "xds = xd.Query(datasets=datasets, \n",
        "               space=space, \n",
        "               time=time)\n",
        "\n"
      ]
    },
    {
      "cell_type": "code",
      "execution_count": null,
      "metadata": {},
      "outputs": [],
      "source": [
        "# This should be what xdatasets returns so users don't have to add it manually\n",
        "# We should also consider using xarray-pint to improve units conversion \n",
        "\n",
        "ds = xds.data.squeeze()\n",
        "ds[\"Station\"].attrs[\"cf_role\"] = \"timeseries_id\"\n",
        "ds['tas'] = ds.t2m - 273.15\n",
        "ds[\"tas\"].attrs = {\"long_name\": \"2 metre temperature\", \"units\": \"C\", \"standard_name\": \"air_temperature\", \"cell_methods\": \"time: mean\"}\n",
        "ds[\"tp\"].attrs = {\"long_name\": \"Mean daily precipitation flux\", \"units\": \"kg m-2 s-1\",\n",
        "                  \"standard_name\": \"precipitation_flux\", \"cell_methods\": \"time: mean within days\"}\n",
        "\n",
        "ds[\"sd\"].attrs = {\"long_name\": \"Snow depth\", \"units\": \"m\",\n",
        "                  \"standard_name\": \"lwe_thickness_of_surface_snow_amount\", \"cell_methods\": \"time: mean within days\"}\n",
        "ds"
      ]
    },
    {
      "cell_type": "code",
      "execution_count": null,
      "metadata": {},
      "outputs": [],
      "source": [
        "timeargs = {\n",
        "    \"01\": {\"month\": [1]},\n",
        "    \"02\": {\"month\": [2]},\n",
        "    \"03\": {\"month\": [3]},\n",
        "    \"04\": {\"month\": [4]},\n",
        "    \"05\": {\"month\": [5]},\n",
        "    \"06\": {\"month\": [6]},\n",
        "    \"07\": {\"month\": [7]},\n",
        "    \"08\": {\"month\": [8]},\n",
        "    \"09\": {\"month\": [9]},\n",
        "    \"10\": {\"month\": [10]},\n",
        "    \"11\": {\"month\": [11]},\n",
        "    \"12\": {\"month\": [12]},\n",
        "    \"spring\": {\"date_bounds\": [\"02-11\", \"06-19\"]},\n",
        "    \"summer_fall\": {\"date_bounds\": [\"06-20\", \"11-19\"]},\n",
        "    \"year\": {\"date_bounds\": [\"01-01\", \"12-31\"]},\n",
        "    }\n",
        "\n",
        "operations = {\n",
        "    \"tas\": [\"max\",\"mean\", \"min\"],\n",
        "    \"tp\": [\"sum\"], \n",
        "    \"sd\": [\"mean\"], \n",
        "}\n"
      ]
    },
    {
      "cell_type": "code",
      "execution_count": null,
      "metadata": {},
      "outputs": [],
      "source": [
        "ds_climatology = xr.merge(\n",
        "    [\n",
        "        get_yearly_op(ds, input_var=variable, op=op, timeargs=timeargs)\n",
        "        for (variable, ops) in operations.items() for op in ops\n",
        "    ]\n",
        ")\n",
        "ds_climatology"
      ]
    },
    {
      "cell_type": "code",
      "execution_count": null,
      "metadata": {},
      "outputs": [],
      "source": [
        "pd.set_option('display.max_rows', 100)\n",
        "ds_climatology.mean('time').to_dataframe().T"
      ]
    }
  ],
  "metadata": {
    "kernelspec": {
      "display_name": "Python 3 (ipykernel)",
      "language": "python",
      "name": "python3"
    },
    "language_info": {
      "codemirror_mode": {
        "name": "ipython",
        "version": 3
      },
      "file_extension": ".py",
      "mimetype": "text/x-python",
      "name": "python",
      "nbconvert_exporter": "python",
      "pygments_lexer": "ipython3",
      "version": "3.11.7"
    },
    "vscode": {
      "interpreter": {
        "hash": "e28391989cdb8b31df72dd917935faad186df3329a743c813090fc6af977a1ca"
      }
    }
  },
  "nbformat": 4,
  "nbformat_minor": 4
}
