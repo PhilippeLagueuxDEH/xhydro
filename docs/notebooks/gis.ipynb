{
  "cells": [
    {
      "cell_type": "markdown",
      "metadata": {},
      "source": [
        "# GIS module"
      ]
    },
    {
      "cell_type": "markdown",
      "metadata": {},
      "source": [
        "Les opérations GIS font partie intégrantes des opérations réalisées en hydrologie. Cette page "
      ]
    },
    {
      "cell_type": "code",
      "execution_count": null,
      "metadata": {},
      "outputs": [],
      "source": [
        "import geopandas as gpd\n",
        "import pandas as pd\n",
        "import warnings\n",
        "import leafmap\n",
        "\n",
        "from pathlib import Path\n",
        "\n",
        "import xhydro.gis as xhgis"
      ]
    },
    {
      "cell_type": "markdown",
      "metadata": {},
      "source": [
        "## Creating a map"
      ]
    },
    {
      "cell_type": "code",
      "execution_count": null,
      "metadata": {},
      "outputs": [],
      "source": [
        "m = leafmap.Map(center=(48.63, -74.71), \n",
        "                zoom=3,\n",
        "                basemap=\"USGS Hydrography\")\n",
        "m"
      ]
    },
    {
      "cell_type": "markdown",
      "metadata": {},
      "source": [
        "## Watershed delineation"
      ]
    },
    {
      "cell_type": "markdown",
      "metadata": {},
      "source": [
        "### a) From a list of coordinates"
      ]
    },
    {
      "cell_type": "code",
      "execution_count": null,
      "metadata": {},
      "outputs": [],
      "source": [
        "lng_lat = [(-69.81971, 48.14720), # Lac Saint-Jean watershed\n",
        "           (-74.393438, 45.572442) # Ottawa river watershed\n",
        "          ]"
      ]
    },
    {
      "cell_type": "markdown",
      "metadata": {},
      "source": [
        "### b) From markers on a map"
      ]
    },
    {
      "cell_type": "markdown",
      "metadata": {},
      "source": [
        "![test](../../docs/_static/_images/example_draw_marker,png)"
      ]
    },
    {
      "cell_type": "code",
      "execution_count": null,
      "metadata": {},
      "outputs": [],
      "source": [
        "# The following code is only useful for the documentation. You should instead remove this code and\n",
        "# interact with the map as shown above by positionning markers at sites of interest\n",
        "m.draw_features = [{'type': 'Feature',\n",
        "  'properties': {},\n",
        "  'geometry': {'type': 'Point', 'coordinates': [-73.118597, 46.042467]}}] # Richelieu watershed"
      ]
    },
    {
      "cell_type": "code",
      "execution_count": null,
      "metadata": {},
      "outputs": [],
      "source": [
        "%%time\n",
        "\n",
        "gdf = xhgis.watershed_delineation(coordinates=lng_lat,\n",
        "                                  map=m)\n",
        "gdf"
      ]
    },
    {
      "cell_type": "code",
      "execution_count": null,
      "metadata": {},
      "outputs": [],
      "source": [
        "m.zoom_to_gdf(gdf)"
      ]
    },
    {
      "cell_type": "markdown",
      "metadata": {},
      "source": [
        "### c) From [xdatasets](https://github.com/hydrologie/xdatasets) (Not implemented yet)\n",
        "\n",
        "This functionality fetches a list of basins from [xdatasets](https://github.com/hydrologie/xdatasets)' supported datasets, and upon request, [xdatasets](https://github.com/hydrologie/xdatasets) provides a `gpd.GeoDataFrame` containing the precalculated boundaries for these basins."
      ]
    },
    {
      "cell_type": "markdown",
      "metadata": {},
      "source": [
        "## Extract geographical watershed properties"
      ]
    },
    {
      "cell_type": "markdown",
      "metadata": {},
      "source": [
        "a) Let's first "
      ]
    },
    {
      "cell_type": "code",
      "execution_count": null,
      "metadata": {},
      "outputs": [],
      "source": [
        "xhgis.watershed_properties(gdf)"
      ]
    },
    {
      "cell_type": "code",
      "execution_count": null,
      "metadata": {},
      "outputs": [],
      "source": [
        "xhgis.watershed_properties(gdf[['HYBAS_ID', 'geometry']],\n",
        "                           unique_id='HYBAS_ID',\n",
        "                           output_format='xarray')"
      ]
    }
  ],
  "metadata": {
    "kernelspec": {
      "display_name": "Python 3 (ipykernel)",
      "language": "python",
      "name": "python3"
    },
    "language_info": {
      "codemirror_mode": {
        "name": "ipython",
        "version": 3
      },
      "file_extension": ".py",
      "mimetype": "text/x-python",
      "name": "python",
      "nbconvert_exporter": "python",
      "pygments_lexer": "ipython3",
      "version": "3.11.7"
    },
    "vscode": {
      "interpreter": {
        "hash": "e28391989cdb8b31df72dd917935faad186df3329a743c813090fc6af977a1ca"
      }
    }
  },
  "nbformat": 4,
  "nbformat_minor": 4
}
